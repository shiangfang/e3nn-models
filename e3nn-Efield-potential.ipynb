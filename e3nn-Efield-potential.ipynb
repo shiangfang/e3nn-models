{
 "cells": [
  {
   "cell_type": "code",
   "execution_count": 1,
   "id": "071cab92",
   "metadata": {},
   "outputs": [],
   "source": [
    "import json\n",
    "import os\n",
    "import pickle\n",
    "import random\n",
    "import sys\n",
    "import pickle\n",
    "\n",
    "from typing import Callable, Dict, List, Optional\n",
    "import haiku as hk\n",
    "import ase\n",
    "import ase.io\n",
    "import jax\n",
    "import jax.numpy as jnp\n",
    "import numpy as np\n",
    "import optax\n",
    "import yaml\n",
    "import jraph\n",
    "\n",
    "\n",
    "from model.datasets import datasets\n",
    "from model.utils import (\n",
    "    create_directory_with_random_name,\n",
    "    compute_avg_num_neighbors,\n",
    ")\n",
    "from model.data_utils import (\n",
    "    get_atomic_number_table_from_zs,\n",
    "    compute_average_E0s,\n",
    "    config_from_atoms,\n",
    "    graph_from_configuration,\n",
    ")\n",
    " \n",
    "from model.predictors import predict_energy_forces_stress\n",
    "from model.optimizer import optimizer\n",
    "from model.energy_force_train import energy_force_train\n",
    "from model.loss import WeightedEnergyFrocesStressLoss\n",
    "from model.nequip_model import NequIP_JAXMD_model_Efield\n",
    "\n",
    "from model.utils import (\n",
    "    get_edge_relative_vectors,\n",
    "    _safe_divide,\n",
    "    sum_nodes_of_the_same_graph,\n",
    ")\n",
    "\n",
    "\n",
    "jax.config.update(\"jax_debug_nans\", True)\n",
    "jax.config.update(\"jax_debug_infs\", True)\n",
    "np.set_printoptions(precision=3, suppress=True)\n",
    "\n"
   ]
  },
  {
   "cell_type": "markdown",
   "id": "d4aebe00",
   "metadata": {},
   "source": [
    "## General energy model training with the electric field dependence\n",
    "\n",
    "First, we need to train the generalized energy model that includes an electric field dependence, expanded up to the order = 2 (with $E^2$ dependence in the energy expansion)\n",
    "\n",
    "The dataset is generated for perturbed ethanol molecules in a random electric field using VASP DFT calculations to get the perturbed energy and atomic forces.\n",
    "The general model is trained to capture such dependence by adding a polarization term and the polarizability term to the total energy.\n"
   ]
  },
  {
   "cell_type": "code",
   "execution_count": 2,
   "id": "77535213",
   "metadata": {},
   "outputs": [
    {
     "name": "stdout",
     "output_type": "stream",
     "text": [
      "2024-03-12-18:44-Efield_pot_training-systematic-fleurette\n"
     ]
    }
   ],
   "source": [
    "with open('data/train_Efield_pot.yaml') as f:\n",
    "    config = yaml.load(f, Loader=yaml.FullLoader)\n",
    "\n",
    "save_dir_name = create_directory_with_random_name(\n",
    "    os.path.splitext('Efield_pot_training')[0]\n",
    ")\n"
   ]
  },
  {
   "cell_type": "code",
   "execution_count": 3,
   "id": "aa95a164",
   "metadata": {},
   "outputs": [
    {
     "name": "stdout",
     "output_type": "stream",
     "text": [
      "nums check 1500 9000 50\n",
      "Loaded 50000 training configurations from 'data/ethanol-train-efield.xyz'\n",
      "Using random 1000 configurations for validation\n",
      "Total number of configurations: train=49000, valid=1000, test=0\n"
     ]
    },
    {
     "name": "stderr",
     "output_type": "stream",
     "text": [
      "100%|██████████████████████████████████| 49000/49000 [00:02<00:00, 23035.29it/s]\n",
      "100%|████████████████████████████████████| 1000/1000 [00:00<00:00, 26654.53it/s]\n",
      "0it [00:00, ?it/s]"
     ]
    },
    {
     "name": "stdout",
     "output_type": "stream",
     "text": [
      "49000\n",
      "1000\n"
     ]
    },
    {
     "name": "stderr",
     "output_type": "stream",
     "text": [
      "\n"
     ]
    }
   ],
   "source": [
    "train_loader, valid_loader,test_loader, r_max = datasets(\n",
    "    r_max = config[\"cutoff\"],\n",
    "    config_dataset = config[\"dataset\"],\n",
    ")\n",
    "    \n",
    "print(len(train_loader.graphs))\n",
    "print(len(valid_loader.graphs))"
   ]
  },
  {
   "cell_type": "code",
   "execution_count": 4,
   "id": "b40cc967",
   "metadata": {},
   "outputs": [
    {
     "name": "stdout",
     "output_type": "stream",
     "text": [
      "Compute the average number of neighbors: 8.000\n",
      "Do not normalize the radial basis (avg_r_min=None)\n",
      "Computed average Atomic Energies using least squares: {1: -6.7887986501063295, 6: -2.262932883368747, 8: -1.1314664416843736}\n",
      "Create NequIP (JAX-MD version) with parameters {'use_sc': True, 'graph_net_steps': 2, 'hidden_irreps': '64x0e + 64x0o + 48x1o + 48x1e +32x2o + 32x2e', 'nonlinearities': {'e': 'swish', 'o': 'tanh'}, 'r_max': 5.0, 'avg_num_neighbors': 8.0, 'avg_r_min': None, 'num_species': 100, 'radial_basis': <function bessel_basis at 0x7f6f593b7ce0>, 'radial_envelope': <function soft_envelope at 0x7f6f593b7420>}\n",
      "num_params: 1888176\n",
      "optimizer num_params: 5664530\n"
     ]
    }
   ],
   "source": [
    "model_fn, params, num_message_passing = NequIP_JAXMD_model_Efield(\n",
    "    r_max=r_max,\n",
    "    atomic_energies_dict={},\n",
    "    train_graphs=train_loader.graphs,\n",
    "    initialize_seed=config[\"model\"][\"seed\"],\n",
    "    num_species = config[\"model\"][\"num_species\"],\n",
    "    use_sc = True,\n",
    "    graph_net_steps = config[\"model\"][\"num_layers\"],\n",
    "    hidden_irreps = config[\"model\"][\"internal_irreps\"],\n",
    "    nonlinearities =  {'e': 'swish', 'o': 'tanh'},\n",
    "    save_dir_name = save_dir_name,\n",
    "    reload = config[\"initialization\"]['reload'] if 'reload' in config[\"initialization\"] else None,\n",
    ")\n",
    "    \n",
    "print(\"num_params:\", sum(p.size for p in jax.tree_util.tree_leaves(params)))\n",
    "    \n",
    "predictor = jax.jit(\n",
    "    lambda w, g: predict_energy_forces_stress(lambda *x: model_fn(w, *x), g)\n",
    ")\n",
    "    \n",
    "gradient_transform, steps_per_interval, max_num_intervals = optimizer(\n",
    "    lr = config[\"training\"][\"learning_rate\"],\n",
    "    max_num_intervals = config[\"training\"][\"max_num_intervals\"],\n",
    "    steps_per_interval = config[\"training\"][\"steps_per_interval\"],\n",
    "    # weight_decay = config[\"training\"][\"weight_decay\"],\n",
    ")\n",
    "optimizer_state = gradient_transform.init(params)\n",
    "print(\"optimizer num_params:\", sum(p.size for p in jax.tree_util.tree_leaves(optimizer_state)))\n",
    "    \n",
    "loss_fn = WeightedEnergyFrocesStressLoss(\n",
    "    energy_weight = config[\"training\"][\"energy_weight\"],\n",
    "    forces_weight = config[\"training\"][\"forces_weight\"],\n",
    "    stress_weight = config[\"training\"][\"stress_weight\"],\n",
    ")\n",
    "    \n",
    "    "
   ]
  },
  {
   "cell_type": "code",
   "execution_count": 5,
   "id": "71c14c69",
   "metadata": {},
   "outputs": [
    {
     "name": "stdout",
     "output_type": "stream",
     "text": [
      "Started training\n"
     ]
    },
    {
     "name": "stderr",
     "output_type": "stream",
     "text": [
      "eval_train:   0%|                                       | 0/999 [00:00<?, ?it/s]"
     ]
    },
    {
     "name": "stdout",
     "output_type": "stream",
     "text": [
      "Compiled function `model` for args:\n",
      "cache size: 1\n"
     ]
    },
    {
     "name": "stderr",
     "output_type": "stream",
     "text": [
      "eval_train: 100%|████████████████████| 999/999 [00:24<00:00, 41.41it/s, n=48951]\n"
     ]
    },
    {
     "name": "stdout",
     "output_type": "stream",
     "text": [
      "Interval 0: eval_train: loss=94.2012, mae_e_per_atom=336.7 meV, mae_f=845.4 meV/Å, mae_s=1.4 meV/Å³\n"
     ]
    },
    {
     "name": "stderr",
     "output_type": "stream",
     "text": [
      "eval_valid:  86%|████████████████████▌   | 18/21 [00:00<00:00, 55.90it/s, n=980]"
     ]
    },
    {
     "name": "stdout",
     "output_type": "stream",
     "text": [
      "Compiled function `model` for args:\n",
      "cache size: 2\n"
     ]
    },
    {
     "name": "stderr",
     "output_type": "stream",
     "text": [
      "eval_valid: 100%|███████████████████████| 21/21 [00:05<00:00,  3.54it/s, n=1000]\n"
     ]
    },
    {
     "name": "stdout",
     "output_type": "stream",
     "text": [
      "Interval 0: eval_valid: loss=95.6327, mae_e_per_atom=335.4 meV, mae_f=855.2 meV/Å, mae_s=1.5 meV/Å³\n"
     ]
    },
    {
     "name": "stderr",
     "output_type": "stream",
     "text": [
      "Train interval 0:   0%|           | 5/1000 [00:08<19:55,  1.20s/it, loss=40.756]"
     ]
    },
    {
     "name": "stdout",
     "output_type": "stream",
     "text": [
      "Compiled function `update_fn` for args:\n",
      "Outout: loss= 99.151\n",
      "Compilation time: 7.890s, cache size: 1\n",
      "Compiled function `update_fn` for args:\n",
      "Outout: loss= 132.404\n",
      "Compilation time: 0.032s, cache size: 2\n"
     ]
    },
    {
     "name": "stderr",
     "output_type": "stream",
     "text": [
      "Train interval 0: 100%|█████████| 1000/1000 [00:36<00:00, 27.25it/s, loss=0.421]\n",
      "eval_train: 100%|████████████████████| 999/999 [00:18<00:00, 55.29it/s, n=48951]\n"
     ]
    },
    {
     "name": "stdout",
     "output_type": "stream",
     "text": [
      "Interval 1: eval_train: loss=0.3746, mae_e_per_atom=2.6 meV, mae_f=52.7 meV/Å, mae_s=2.7 meV/Å³\n"
     ]
    },
    {
     "name": "stderr",
     "output_type": "stream",
     "text": [
      "eval_valid: 100%|███████████████████████| 21/21 [00:00<00:00, 54.89it/s, n=1000]\n"
     ]
    },
    {
     "name": "stdout",
     "output_type": "stream",
     "text": [
      "Interval 1: eval_valid: loss=0.3900, mae_e_per_atom=2.6 meV, mae_f=53.7 meV/Å, mae_s=2.7 meV/Å³\n"
     ]
    },
    {
     "name": "stderr",
     "output_type": "stream",
     "text": [
      "Train interval 1: 100%|█████████| 1000/1000 [00:28<00:00, 34.59it/s, loss=0.332]\n",
      "eval_train: 100%|████████████████████| 999/999 [00:18<00:00, 55.00it/s, n=48951]\n"
     ]
    },
    {
     "name": "stdout",
     "output_type": "stream",
     "text": [
      "Interval 2: eval_train: loss=0.2556, mae_e_per_atom=2.0 meV, mae_f=43.4 meV/Å, mae_s=2.7 meV/Å³\n"
     ]
    },
    {
     "name": "stderr",
     "output_type": "stream",
     "text": [
      "eval_valid: 100%|███████████████████████| 21/21 [00:00<00:00, 54.95it/s, n=1000]\n"
     ]
    },
    {
     "name": "stdout",
     "output_type": "stream",
     "text": [
      "Interval 2: eval_valid: loss=0.2650, mae_e_per_atom=2.0 meV, mae_f=44.1 meV/Å, mae_s=2.7 meV/Å³\n"
     ]
    },
    {
     "name": "stderr",
     "output_type": "stream",
     "text": [
      "Train interval 2: 100%|█████████| 1000/1000 [00:28<00:00, 34.58it/s, loss=0.208]\n",
      "eval_train: 100%|████████████████████| 999/999 [00:18<00:00, 54.98it/s, n=48951]\n"
     ]
    },
    {
     "name": "stdout",
     "output_type": "stream",
     "text": [
      "Interval 3: eval_train: loss=0.1851, mae_e_per_atom=1.7 meV, mae_f=36.9 meV/Å, mae_s=2.7 meV/Å³\n"
     ]
    },
    {
     "name": "stderr",
     "output_type": "stream",
     "text": [
      "eval_valid: 100%|███████████████████████| 21/21 [00:00<00:00, 54.62it/s, n=1000]\n"
     ]
    },
    {
     "name": "stdout",
     "output_type": "stream",
     "text": [
      "Interval 3: eval_valid: loss=0.1918, mae_e_per_atom=1.7 meV, mae_f=37.5 meV/Å, mae_s=2.7 meV/Å³\n"
     ]
    },
    {
     "name": "stderr",
     "output_type": "stream",
     "text": [
      "Train interval 3: 100%|█████████| 1000/1000 [00:28<00:00, 34.53it/s, loss=0.189]\n",
      "eval_train: 100%|████████████████████| 999/999 [00:18<00:00, 54.97it/s, n=48951]\n"
     ]
    },
    {
     "name": "stdout",
     "output_type": "stream",
     "text": [
      "Interval 4: eval_train: loss=0.1494, mae_e_per_atom=1.5 meV, mae_f=33.1 meV/Å, mae_s=2.7 meV/Å³\n"
     ]
    },
    {
     "name": "stderr",
     "output_type": "stream",
     "text": [
      "eval_valid: 100%|███████████████████████| 21/21 [00:00<00:00, 55.04it/s, n=1000]\n"
     ]
    },
    {
     "name": "stdout",
     "output_type": "stream",
     "text": [
      "Interval 4: eval_valid: loss=0.1546, mae_e_per_atom=1.5 meV, mae_f=33.6 meV/Å, mae_s=2.7 meV/Å³\n"
     ]
    },
    {
     "name": "stderr",
     "output_type": "stream",
     "text": [
      "Train interval 4: 100%|█████████| 1000/1000 [00:28<00:00, 34.62it/s, loss=0.128]\n",
      "eval_train: 100%|████████████████████| 999/999 [00:18<00:00, 54.84it/s, n=48951]\n"
     ]
    },
    {
     "name": "stdout",
     "output_type": "stream",
     "text": [
      "Interval 5: eval_train: loss=0.1260, mae_e_per_atom=1.4 meV, mae_f=30.4 meV/Å, mae_s=2.7 meV/Å³\n"
     ]
    },
    {
     "name": "stderr",
     "output_type": "stream",
     "text": [
      "eval_valid: 100%|███████████████████████| 21/21 [00:00<00:00, 54.89it/s, n=1000]\n"
     ]
    },
    {
     "name": "stdout",
     "output_type": "stream",
     "text": [
      "Interval 5: eval_valid: loss=0.1302, mae_e_per_atom=1.4 meV, mae_f=30.9 meV/Å, mae_s=2.7 meV/Å³\n"
     ]
    },
    {
     "name": "stderr",
     "output_type": "stream",
     "text": [
      "Train interval 5: 100%|█████████| 1000/1000 [00:28<00:00, 34.59it/s, loss=0.165]\n",
      "eval_train: 100%|████████████████████| 999/999 [00:18<00:00, 54.69it/s, n=48951]\n"
     ]
    },
    {
     "name": "stdout",
     "output_type": "stream",
     "text": [
      "Interval 6: eval_train: loss=0.1079, mae_e_per_atom=1.2 meV, mae_f=28.1 meV/Å, mae_s=2.7 meV/Å³\n"
     ]
    },
    {
     "name": "stderr",
     "output_type": "stream",
     "text": [
      "eval_valid: 100%|███████████████████████| 21/21 [00:00<00:00, 55.17it/s, n=1000]\n"
     ]
    },
    {
     "name": "stdout",
     "output_type": "stream",
     "text": [
      "Interval 6: eval_valid: loss=0.1112, mae_e_per_atom=1.3 meV, mae_f=28.5 meV/Å, mae_s=2.7 meV/Å³\n"
     ]
    },
    {
     "name": "stderr",
     "output_type": "stream",
     "text": [
      "Train interval 6: 100%|█████████| 1000/1000 [00:28<00:00, 35.01it/s, loss=0.133]\n",
      "eval_train: 100%|████████████████████| 999/999 [00:17<00:00, 55.52it/s, n=48951]\n"
     ]
    },
    {
     "name": "stdout",
     "output_type": "stream",
     "text": [
      "Interval 7: eval_train: loss=0.0953, mae_e_per_atom=1.2 meV, mae_f=26.5 meV/Å, mae_s=2.7 meV/Å³\n"
     ]
    },
    {
     "name": "stderr",
     "output_type": "stream",
     "text": [
      "eval_valid: 100%|███████████████████████| 21/21 [00:00<00:00, 55.69it/s, n=1000]\n"
     ]
    },
    {
     "name": "stdout",
     "output_type": "stream",
     "text": [
      "Interval 7: eval_valid: loss=0.0980, mae_e_per_atom=1.2 meV, mae_f=26.8 meV/Å, mae_s=2.7 meV/Å³\n"
     ]
    },
    {
     "name": "stderr",
     "output_type": "stream",
     "text": [
      "Train interval 7: 100%|█████████| 1000/1000 [00:28<00:00, 35.13it/s, loss=0.093]\n",
      "eval_train: 100%|████████████████████| 999/999 [00:18<00:00, 55.49it/s, n=48951]\n"
     ]
    },
    {
     "name": "stdout",
     "output_type": "stream",
     "text": [
      "Interval 8: eval_train: loss=0.0848, mae_e_per_atom=1.1 meV, mae_f=25.0 meV/Å, mae_s=2.7 meV/Å³\n"
     ]
    },
    {
     "name": "stderr",
     "output_type": "stream",
     "text": [
      "eval_valid: 100%|███████████████████████| 21/21 [00:00<00:00, 55.93it/s, n=1000]\n"
     ]
    },
    {
     "name": "stdout",
     "output_type": "stream",
     "text": [
      "Interval 8: eval_valid: loss=0.0867, mae_e_per_atom=1.2 meV, mae_f=25.3 meV/Å, mae_s=2.7 meV/Å³\n"
     ]
    },
    {
     "name": "stderr",
     "output_type": "stream",
     "text": [
      "Train interval 8: 100%|█████████| 1000/1000 [00:28<00:00, 35.07it/s, loss=0.078]\n",
      "eval_train: 100%|████████████████████| 999/999 [00:18<00:00, 54.75it/s, n=48951]\n"
     ]
    },
    {
     "name": "stdout",
     "output_type": "stream",
     "text": [
      "Interval 9: eval_train: loss=0.0768, mae_e_per_atom=1.0 meV, mae_f=23.8 meV/Å, mae_s=2.7 meV/Å³\n"
     ]
    },
    {
     "name": "stderr",
     "output_type": "stream",
     "text": [
      "eval_valid: 100%|███████████████████████| 21/21 [00:00<00:00, 55.03it/s, n=1000]\n"
     ]
    },
    {
     "name": "stdout",
     "output_type": "stream",
     "text": [
      "Interval 9: eval_valid: loss=0.0786, mae_e_per_atom=1.1 meV, mae_f=24.1 meV/Å, mae_s=2.7 meV/Å³\n"
     ]
    },
    {
     "name": "stderr",
     "output_type": "stream",
     "text": [
      "Train interval 9: 100%|█████████| 1000/1000 [00:28<00:00, 34.98it/s, loss=0.063]\n",
      "eval_train: 100%|████████████████████| 999/999 [00:18<00:00, 55.20it/s, n=48951]\n"
     ]
    },
    {
     "name": "stdout",
     "output_type": "stream",
     "text": [
      "Interval 10: eval_train: loss=0.0702, mae_e_per_atom=1.0 meV, mae_f=22.8 meV/Å, mae_s=2.7 meV/Å³\n"
     ]
    },
    {
     "name": "stderr",
     "output_type": "stream",
     "text": [
      "eval_valid: 100%|███████████████████████| 21/21 [00:00<00:00, 54.61it/s, n=1000]\n"
     ]
    },
    {
     "name": "stdout",
     "output_type": "stream",
     "text": [
      "Interval 10: eval_valid: loss=0.0718, mae_e_per_atom=1.0 meV, mae_f=23.0 meV/Å, mae_s=2.7 meV/Å³\n"
     ]
    },
    {
     "name": "stderr",
     "output_type": "stream",
     "text": [
      "Train interval 10: 100%|████████| 1000/1000 [00:28<00:00, 35.22it/s, loss=0.090]\n",
      "eval_train: 100%|████████████████████| 999/999 [00:18<00:00, 55.46it/s, n=48951]\n"
     ]
    },
    {
     "name": "stdout",
     "output_type": "stream",
     "text": [
      "Interval 11: eval_train: loss=0.0651, mae_e_per_atom=1.0 meV, mae_f=21.9 meV/Å, mae_s=2.7 meV/Å³\n"
     ]
    },
    {
     "name": "stderr",
     "output_type": "stream",
     "text": [
      "eval_valid: 100%|███████████████████████| 21/21 [00:00<00:00, 54.69it/s, n=1000]\n"
     ]
    },
    {
     "name": "stdout",
     "output_type": "stream",
     "text": [
      "Interval 11: eval_valid: loss=0.0668, mae_e_per_atom=1.0 meV, mae_f=22.2 meV/Å, mae_s=2.7 meV/Å³\n"
     ]
    },
    {
     "name": "stderr",
     "output_type": "stream",
     "text": [
      "Train interval 11: 100%|████████| 1000/1000 [00:28<00:00, 35.09it/s, loss=0.084]\n",
      "eval_train: 100%|████████████████████| 999/999 [00:18<00:00, 55.34it/s, n=48951]\n"
     ]
    },
    {
     "name": "stdout",
     "output_type": "stream",
     "text": [
      "Interval 12: eval_train: loss=0.0606, mae_e_per_atom=0.9 meV, mae_f=21.2 meV/Å, mae_s=2.7 meV/Å³\n"
     ]
    },
    {
     "name": "stderr",
     "output_type": "stream",
     "text": [
      "eval_valid: 100%|███████████████████████| 21/21 [00:00<00:00, 55.71it/s, n=1000]\n"
     ]
    },
    {
     "name": "stdout",
     "output_type": "stream",
     "text": [
      "Interval 12: eval_valid: loss=0.0622, mae_e_per_atom=1.0 meV, mae_f=21.4 meV/Å, mae_s=2.7 meV/Å³\n"
     ]
    },
    {
     "name": "stderr",
     "output_type": "stream",
     "text": [
      "Train interval 12: 100%|████████| 1000/1000 [00:28<00:00, 35.01it/s, loss=0.080]\n",
      "eval_train: 100%|████████████████████| 999/999 [00:18<00:00, 55.29it/s, n=48951]\n"
     ]
    },
    {
     "name": "stdout",
     "output_type": "stream",
     "text": [
      "Interval 13: eval_train: loss=0.0572, mae_e_per_atom=1.0 meV, mae_f=20.6 meV/Å, mae_s=2.7 meV/Å³\n"
     ]
    },
    {
     "name": "stderr",
     "output_type": "stream",
     "text": [
      "eval_valid: 100%|███████████████████████| 21/21 [00:00<00:00, 55.00it/s, n=1000]\n"
     ]
    },
    {
     "name": "stdout",
     "output_type": "stream",
     "text": [
      "Interval 13: eval_valid: loss=0.0589, mae_e_per_atom=1.0 meV, mae_f=20.8 meV/Å, mae_s=2.7 meV/Å³\n"
     ]
    },
    {
     "name": "stderr",
     "output_type": "stream",
     "text": [
      "Train interval 13: 100%|████████| 1000/1000 [00:28<00:00, 35.03it/s, loss=0.064]\n",
      "eval_train: 100%|████████████████████| 999/999 [00:18<00:00, 55.45it/s, n=48951]\n"
     ]
    },
    {
     "name": "stdout",
     "output_type": "stream",
     "text": [
      "Interval 14: eval_train: loss=0.0537, mae_e_per_atom=0.9 meV, mae_f=19.9 meV/Å, mae_s=2.7 meV/Å³\n"
     ]
    },
    {
     "name": "stderr",
     "output_type": "stream",
     "text": [
      "eval_valid: 100%|███████████████████████| 21/21 [00:00<00:00, 55.13it/s, n=1000]\n"
     ]
    },
    {
     "name": "stdout",
     "output_type": "stream",
     "text": [
      "Interval 14: eval_valid: loss=0.0552, mae_e_per_atom=0.9 meV, mae_f=20.2 meV/Å, mae_s=2.7 meV/Å³\n"
     ]
    },
    {
     "name": "stderr",
     "output_type": "stream",
     "text": [
      "Train interval 14: 100%|████████| 1000/1000 [00:28<00:00, 35.08it/s, loss=0.052]\n",
      "eval_train: 100%|████████████████████| 999/999 [00:18<00:00, 55.15it/s, n=48951]\n"
     ]
    },
    {
     "name": "stdout",
     "output_type": "stream",
     "text": [
      "Interval 15: eval_train: loss=0.0508, mae_e_per_atom=0.9 meV, mae_f=19.4 meV/Å, mae_s=2.7 meV/Å³\n"
     ]
    },
    {
     "name": "stderr",
     "output_type": "stream",
     "text": [
      "eval_valid: 100%|███████████████████████| 21/21 [00:00<00:00, 55.35it/s, n=1000]\n"
     ]
    },
    {
     "name": "stdout",
     "output_type": "stream",
     "text": [
      "Interval 15: eval_valid: loss=0.0526, mae_e_per_atom=0.9 meV, mae_f=19.7 meV/Å, mae_s=2.7 meV/Å³\n"
     ]
    },
    {
     "name": "stderr",
     "output_type": "stream",
     "text": [
      "Train interval 15: 100%|████████| 1000/1000 [00:28<00:00, 35.03it/s, loss=0.046]\n",
      "eval_train: 100%|████████████████████| 999/999 [00:18<00:00, 55.05it/s, n=48951]\n"
     ]
    },
    {
     "name": "stdout",
     "output_type": "stream",
     "text": [
      "Interval 16: eval_train: loss=0.0481, mae_e_per_atom=0.8 meV, mae_f=18.9 meV/Å, mae_s=2.7 meV/Å³\n"
     ]
    },
    {
     "name": "stderr",
     "output_type": "stream",
     "text": [
      "eval_valid: 100%|███████████████████████| 21/21 [00:00<00:00, 54.35it/s, n=1000]\n"
     ]
    },
    {
     "name": "stdout",
     "output_type": "stream",
     "text": [
      "Interval 16: eval_valid: loss=0.0495, mae_e_per_atom=0.9 meV, mae_f=19.1 meV/Å, mae_s=2.7 meV/Å³\n"
     ]
    },
    {
     "name": "stderr",
     "output_type": "stream",
     "text": [
      "Train interval 16: 100%|████████| 1000/1000 [00:28<00:00, 34.85it/s, loss=0.057]\n",
      "eval_train: 100%|████████████████████| 999/999 [00:18<00:00, 55.04it/s, n=48951]\n"
     ]
    },
    {
     "name": "stdout",
     "output_type": "stream",
     "text": [
      "Interval 17: eval_train: loss=0.0459, mae_e_per_atom=0.8 meV, mae_f=18.4 meV/Å, mae_s=2.7 meV/Å³\n"
     ]
    },
    {
     "name": "stderr",
     "output_type": "stream",
     "text": [
      "eval_valid: 100%|███████████████████████| 21/21 [00:00<00:00, 55.53it/s, n=1000]\n"
     ]
    },
    {
     "name": "stdout",
     "output_type": "stream",
     "text": [
      "Interval 17: eval_valid: loss=0.0474, mae_e_per_atom=0.9 meV, mae_f=18.7 meV/Å, mae_s=2.7 meV/Å³\n"
     ]
    },
    {
     "name": "stderr",
     "output_type": "stream",
     "text": [
      "Train interval 17: 100%|████████| 1000/1000 [00:28<00:00, 34.96it/s, loss=0.058]\n",
      "eval_train: 100%|████████████████████| 999/999 [00:18<00:00, 55.14it/s, n=48951]\n"
     ]
    },
    {
     "name": "stdout",
     "output_type": "stream",
     "text": [
      "Interval 18: eval_train: loss=0.0440, mae_e_per_atom=0.9 meV, mae_f=18.1 meV/Å, mae_s=2.7 meV/Å³\n"
     ]
    },
    {
     "name": "stderr",
     "output_type": "stream",
     "text": [
      "eval_valid: 100%|███████████████████████| 21/21 [00:00<00:00, 54.93it/s, n=1000]\n"
     ]
    },
    {
     "name": "stdout",
     "output_type": "stream",
     "text": [
      "Interval 18: eval_valid: loss=0.0456, mae_e_per_atom=0.9 meV, mae_f=18.4 meV/Å, mae_s=2.7 meV/Å³\n"
     ]
    },
    {
     "name": "stderr",
     "output_type": "stream",
     "text": [
      "Train interval 18: 100%|████████| 1000/1000 [00:28<00:00, 34.91it/s, loss=0.081]\n",
      "eval_train: 100%|████████████████████| 999/999 [00:18<00:00, 54.85it/s, n=48951]\n"
     ]
    },
    {
     "name": "stdout",
     "output_type": "stream",
     "text": [
      "Interval 19: eval_train: loss=0.0422, mae_e_per_atom=0.8 meV, mae_f=17.7 meV/Å, mae_s=2.7 meV/Å³\n"
     ]
    },
    {
     "name": "stderr",
     "output_type": "stream",
     "text": [
      "eval_valid: 100%|███████████████████████| 21/21 [00:00<00:00, 53.43it/s, n=1000]\n"
     ]
    },
    {
     "name": "stdout",
     "output_type": "stream",
     "text": [
      "Interval 19: eval_valid: loss=0.0438, mae_e_per_atom=0.9 meV, mae_f=18.0 meV/Å, mae_s=2.7 meV/Å³\n"
     ]
    },
    {
     "name": "stderr",
     "output_type": "stream",
     "text": [
      "Train interval 19: 100%|████████| 1000/1000 [00:28<00:00, 34.86it/s, loss=0.049]\n",
      "eval_train: 100%|████████████████████| 999/999 [00:18<00:00, 54.85it/s, n=48951]\n"
     ]
    },
    {
     "name": "stdout",
     "output_type": "stream",
     "text": [
      "Interval 20: eval_train: loss=0.0405, mae_e_per_atom=0.8 meV, mae_f=17.3 meV/Å, mae_s=2.7 meV/Å³\n"
     ]
    },
    {
     "name": "stderr",
     "output_type": "stream",
     "text": [
      "eval_valid: 100%|███████████████████████| 21/21 [00:00<00:00, 56.06it/s, n=1000]\n"
     ]
    },
    {
     "name": "stdout",
     "output_type": "stream",
     "text": [
      "Interval 20: eval_valid: loss=0.0419, mae_e_per_atom=0.8 meV, mae_f=17.6 meV/Å, mae_s=2.7 meV/Å³\n"
     ]
    },
    {
     "name": "stderr",
     "output_type": "stream",
     "text": [
      "Train interval 20: 100%|████████| 1000/1000 [00:28<00:00, 34.84it/s, loss=0.052]\n",
      "eval_train: 100%|████████████████████| 999/999 [00:18<00:00, 55.07it/s, n=48951]\n"
     ]
    },
    {
     "name": "stdout",
     "output_type": "stream",
     "text": [
      "Interval 21: eval_train: loss=0.0390, mae_e_per_atom=0.8 meV, mae_f=17.0 meV/Å, mae_s=2.7 meV/Å³\n"
     ]
    },
    {
     "name": "stderr",
     "output_type": "stream",
     "text": [
      "eval_valid: 100%|███████████████████████| 21/21 [00:00<00:00, 55.20it/s, n=1000]\n"
     ]
    },
    {
     "name": "stdout",
     "output_type": "stream",
     "text": [
      "Interval 21: eval_valid: loss=0.0404, mae_e_per_atom=0.9 meV, mae_f=17.3 meV/Å, mae_s=2.7 meV/Å³\n"
     ]
    },
    {
     "name": "stderr",
     "output_type": "stream",
     "text": [
      "Train interval 21: 100%|████████| 1000/1000 [00:28<00:00, 34.92it/s, loss=0.037]\n",
      "eval_train: 100%|████████████████████| 999/999 [00:18<00:00, 54.86it/s, n=48951]\n"
     ]
    },
    {
     "name": "stdout",
     "output_type": "stream",
     "text": [
      "Interval 22: eval_train: loss=0.0375, mae_e_per_atom=0.8 meV, mae_f=16.7 meV/Å, mae_s=2.7 meV/Å³\n"
     ]
    },
    {
     "name": "stderr",
     "output_type": "stream",
     "text": [
      "eval_valid: 100%|███████████████████████| 21/21 [00:00<00:00, 55.12it/s, n=1000]\n"
     ]
    },
    {
     "name": "stdout",
     "output_type": "stream",
     "text": [
      "Interval 22: eval_valid: loss=0.0389, mae_e_per_atom=0.8 meV, mae_f=16.9 meV/Å, mae_s=2.7 meV/Å³\n"
     ]
    },
    {
     "name": "stderr",
     "output_type": "stream",
     "text": [
      "Train interval 22: 100%|████████| 1000/1000 [00:28<00:00, 34.82it/s, loss=0.051]\n",
      "eval_train: 100%|████████████████████| 999/999 [00:18<00:00, 54.90it/s, n=48951]\n"
     ]
    },
    {
     "name": "stdout",
     "output_type": "stream",
     "text": [
      "Interval 23: eval_train: loss=0.0362, mae_e_per_atom=0.7 meV, mae_f=16.4 meV/Å, mae_s=2.7 meV/Å³\n"
     ]
    },
    {
     "name": "stderr",
     "output_type": "stream",
     "text": [
      "eval_valid: 100%|███████████████████████| 21/21 [00:00<00:00, 54.79it/s, n=1000]\n"
     ]
    },
    {
     "name": "stdout",
     "output_type": "stream",
     "text": [
      "Interval 23: eval_valid: loss=0.0375, mae_e_per_atom=0.8 meV, mae_f=16.6 meV/Å, mae_s=2.7 meV/Å³\n"
     ]
    },
    {
     "name": "stderr",
     "output_type": "stream",
     "text": [
      "Train interval 23: 100%|████████| 1000/1000 [00:28<00:00, 34.88it/s, loss=0.040]\n",
      "eval_train: 100%|████████████████████| 999/999 [00:18<00:00, 54.96it/s, n=48951]\n"
     ]
    },
    {
     "name": "stdout",
     "output_type": "stream",
     "text": [
      "Interval 24: eval_train: loss=0.0351, mae_e_per_atom=0.8 meV, mae_f=16.1 meV/Å, mae_s=2.7 meV/Å³\n"
     ]
    },
    {
     "name": "stderr",
     "output_type": "stream",
     "text": [
      "eval_valid: 100%|███████████████████████| 21/21 [00:00<00:00, 54.16it/s, n=1000]\n"
     ]
    },
    {
     "name": "stdout",
     "output_type": "stream",
     "text": [
      "Interval 24: eval_valid: loss=0.0365, mae_e_per_atom=0.8 meV, mae_f=16.4 meV/Å, mae_s=2.7 meV/Å³\n"
     ]
    },
    {
     "name": "stderr",
     "output_type": "stream",
     "text": [
      "Train interval 24: 100%|████████| 1000/1000 [00:28<00:00, 34.77it/s, loss=0.043]\n",
      "eval_train: 100%|████████████████████| 999/999 [00:18<00:00, 54.75it/s, n=48951]\n"
     ]
    },
    {
     "name": "stdout",
     "output_type": "stream",
     "text": [
      "Interval 25: eval_train: loss=0.0341, mae_e_per_atom=0.7 meV, mae_f=15.9 meV/Å, mae_s=2.7 meV/Å³\n"
     ]
    },
    {
     "name": "stderr",
     "output_type": "stream",
     "text": [
      "eval_valid: 100%|███████████████████████| 21/21 [00:00<00:00, 55.30it/s, n=1000]\n"
     ]
    },
    {
     "name": "stdout",
     "output_type": "stream",
     "text": [
      "Interval 25: eval_valid: loss=0.0354, mae_e_per_atom=0.7 meV, mae_f=16.1 meV/Å, mae_s=2.7 meV/Å³\n"
     ]
    },
    {
     "name": "stderr",
     "output_type": "stream",
     "text": [
      "Train interval 25: 100%|████████| 1000/1000 [00:28<00:00, 34.75it/s, loss=0.040]\n",
      "eval_train: 100%|████████████████████| 999/999 [00:18<00:00, 54.86it/s, n=48951]\n"
     ]
    },
    {
     "name": "stdout",
     "output_type": "stream",
     "text": [
      "Interval 26: eval_train: loss=0.0332, mae_e_per_atom=0.8 meV, mae_f=15.6 meV/Å, mae_s=2.7 meV/Å³\n"
     ]
    },
    {
     "name": "stderr",
     "output_type": "stream",
     "text": [
      "eval_valid: 100%|███████████████████████| 21/21 [00:00<00:00, 54.54it/s, n=1000]\n"
     ]
    },
    {
     "name": "stdout",
     "output_type": "stream",
     "text": [
      "Interval 26: eval_valid: loss=0.0346, mae_e_per_atom=0.8 meV, mae_f=15.9 meV/Å, mae_s=2.7 meV/Å³\n"
     ]
    },
    {
     "name": "stderr",
     "output_type": "stream",
     "text": [
      "Train interval 26: 100%|████████| 1000/1000 [00:28<00:00, 34.75it/s, loss=0.046]\n",
      "eval_train: 100%|████████████████████| 999/999 [00:18<00:00, 54.82it/s, n=48951]\n"
     ]
    },
    {
     "name": "stdout",
     "output_type": "stream",
     "text": [
      "Interval 27: eval_train: loss=0.0321, mae_e_per_atom=0.7 meV, mae_f=15.4 meV/Å, mae_s=2.7 meV/Å³\n"
     ]
    },
    {
     "name": "stderr",
     "output_type": "stream",
     "text": [
      "eval_valid: 100%|███████████████████████| 21/21 [00:00<00:00, 54.05it/s, n=1000]\n"
     ]
    },
    {
     "name": "stdout",
     "output_type": "stream",
     "text": [
      "Interval 27: eval_valid: loss=0.0334, mae_e_per_atom=0.7 meV, mae_f=15.6 meV/Å, mae_s=2.7 meV/Å³\n"
     ]
    },
    {
     "name": "stderr",
     "output_type": "stream",
     "text": [
      "Train interval 27: 100%|████████| 1000/1000 [00:28<00:00, 34.79it/s, loss=0.035]\n",
      "eval_train: 100%|████████████████████| 999/999 [00:18<00:00, 54.81it/s, n=48951]\n"
     ]
    },
    {
     "name": "stdout",
     "output_type": "stream",
     "text": [
      "Interval 28: eval_train: loss=0.0313, mae_e_per_atom=0.7 meV, mae_f=15.2 meV/Å, mae_s=2.7 meV/Å³\n"
     ]
    },
    {
     "name": "stderr",
     "output_type": "stream",
     "text": [
      "eval_valid: 100%|███████████████████████| 21/21 [00:00<00:00, 55.07it/s, n=1000]\n"
     ]
    },
    {
     "name": "stdout",
     "output_type": "stream",
     "text": [
      "Interval 28: eval_valid: loss=0.0326, mae_e_per_atom=0.8 meV, mae_f=15.4 meV/Å, mae_s=2.7 meV/Å³\n"
     ]
    },
    {
     "name": "stderr",
     "output_type": "stream",
     "text": [
      "Train interval 28: 100%|████████| 1000/1000 [00:28<00:00, 34.78it/s, loss=0.053]\n",
      "eval_train: 100%|████████████████████| 999/999 [00:18<00:00, 54.73it/s, n=48951]\n"
     ]
    },
    {
     "name": "stdout",
     "output_type": "stream",
     "text": [
      "Interval 29: eval_train: loss=0.0305, mae_e_per_atom=0.7 meV, mae_f=15.0 meV/Å, mae_s=2.7 meV/Å³\n"
     ]
    },
    {
     "name": "stderr",
     "output_type": "stream",
     "text": [
      "eval_valid: 100%|███████████████████████| 21/21 [00:00<00:00, 54.77it/s, n=1000]\n"
     ]
    },
    {
     "name": "stdout",
     "output_type": "stream",
     "text": [
      "Interval 29: eval_valid: loss=0.0320, mae_e_per_atom=0.7 meV, mae_f=15.3 meV/Å, mae_s=2.7 meV/Å³\n"
     ]
    },
    {
     "name": "stderr",
     "output_type": "stream",
     "text": [
      "Train interval 29: 100%|████████| 1000/1000 [00:28<00:00, 34.67it/s, loss=0.033]\n",
      "eval_train: 100%|████████████████████| 999/999 [00:18<00:00, 54.51it/s, n=48951]\n"
     ]
    },
    {
     "name": "stdout",
     "output_type": "stream",
     "text": [
      "Interval 30: eval_train: loss=0.0296, mae_e_per_atom=0.7 meV, mae_f=14.8 meV/Å, mae_s=2.7 meV/Å³\n"
     ]
    },
    {
     "name": "stderr",
     "output_type": "stream",
     "text": [
      "eval_valid: 100%|███████████████████████| 21/21 [00:00<00:00, 55.46it/s, n=1000]\n"
     ]
    },
    {
     "name": "stdout",
     "output_type": "stream",
     "text": [
      "Interval 30: eval_valid: loss=0.0310, mae_e_per_atom=0.7 meV, mae_f=15.0 meV/Å, mae_s=2.7 meV/Å³\n",
      "Training complete\n",
      "Training done!\n"
     ]
    }
   ],
   "source": [
    "energy_force_train(\n",
    "    predictor,\n",
    "    params,\n",
    "    optimizer_state,\n",
    "    train_loader,\n",
    "    valid_loader,\n",
    "    test_loader,\n",
    "    gradient_transform,\n",
    "    loss_fn,\n",
    "    max_num_intervals,\n",
    "    steps_per_interval,\n",
    "    save_dir_name,\n",
    "    ema_decay = config[\"training\"][\"ema_decay\"],\n",
    "    patience = config[\"training\"][\"patience\"],\n",
    ")\n",
    "\n",
    "print('Training done!')"
   ]
  },
  {
   "cell_type": "code",
   "execution_count": null,
   "id": "45badf51",
   "metadata": {},
   "outputs": [],
   "source": []
  },
  {
   "cell_type": "markdown",
   "id": "3c7c1ccc",
   "metadata": {},
   "source": [
    "## Derivations for the electric polarization vector and Born effective charges matrice\n",
    "\n",
    "With the energy model trained above (order = 2) which includes the electric field dependence, we can derive the electric polarization vector and the Born effective charges matrice given a (molecular) structure.\n",
    "Here the model is trained with the ethanol molecule dataset augmented with the electric field in DFT calculations.\n",
    "We derive these properties for an ethanol molecule via the auto-differentiation of the energy functional with respect to the electric field vector variable.\n",
    "\n",
    "\n",
    "First, one load the trained energy model with the electric field dependence."
   ]
  },
  {
   "cell_type": "code",
   "execution_count": 6,
   "id": "106749d8",
   "metadata": {},
   "outputs": [
    {
     "name": "stdout",
     "output_type": "stream",
     "text": [
      "Create NequIP (JAX-MD version) with parameters {'use_sc': True, 'graph_net_steps': 2, 'hidden_irreps': '64x0e + 64x0o + 48x1o + 48x1e +32x2o + 32x2e', 'nonlinearities': {'e': 'swish', 'o': 'tanh'}, 'r_max': 5.0, 'avg_num_neighbors': 8.0, 'avg_r_min': None, 'num_species': 100, 'radial_basis': <function bessel_basis at 0x7f6f593b7ce0>, 'radial_envelope': <function soft_envelope at 0x7f6f593b7420>}\n",
      "num_params: 1888176\n"
     ]
    }
   ],
   "source": [
    "model_fn, params, num_message_passing = NequIP_JAXMD_model_Efield(\n",
    "    r_max=r_max,\n",
    "    atomic_energies_dict={},\n",
    "    train_graphs=train_loader.graphs,\n",
    "    initialize_seed=config[\"model\"][\"seed\"],\n",
    "    num_species = config[\"model\"][\"num_species\"],\n",
    "    use_sc = True,\n",
    "    graph_net_steps = config[\"model\"][\"num_layers\"],\n",
    "    hidden_irreps = config[\"model\"][\"internal_irreps\"],\n",
    "    nonlinearities =  {'e': 'swish', 'o': 'tanh'},\n",
    "    save_dir_name = save_dir_name,\n",
    "    reload = '2024-03-12-18:44-Efield_pot_training-systematic-fleurette',\n",
    ")\n",
    "\n",
    "print(\"num_params:\", sum(p.size for p in jax.tree_util.tree_leaves(params)))\n",
    "    \n",
    "predictor = jax.jit(\n",
    "    lambda w, g: predict_energy_forces_stress(lambda *x: model_fn(w, *x), g)\n",
    ")\n"
   ]
  },
  {
   "cell_type": "code",
   "execution_count": null,
   "id": "aa8da45a",
   "metadata": {},
   "outputs": [],
   "source": []
  },
  {
   "cell_type": "markdown",
   "id": "7cfa86f1",
   "metadata": {},
   "source": [
    "Load the ethanol molecule structure and prepare the computational graph needed"
   ]
  },
  {
   "cell_type": "code",
   "execution_count": 7,
   "id": "842380c4",
   "metadata": {},
   "outputs": [],
   "source": [
    "ethanol_mol = ase.io.read('data/ethanol-PBE.vasp',format='vasp')\n",
    "\n",
    "# shift the atomic positions properly for a molecule\n",
    "allpos=ethanol_mol.get_positions()\n",
    "allpos[allpos<-5.0] =  allpos[allpos<-5.0] + 10.0\n",
    "allpos[allpos>5.0] =  allpos[allpos>5.0] - 10.0\n",
    "ethanol_mol.set_positions(allpos)\n",
    "\n",
    "ethanol_config = config_from_atoms(ethanol_mol)\n",
    "ethanol_graph = graph_from_configuration(ethanol_config,cutoff = config[\"cutoff\"])\n"
   ]
  },
  {
   "cell_type": "markdown",
   "id": "cfcbdf0d",
   "metadata": {},
   "source": [
    "Define functions to derive the electric polarization vector (first order derivatives) and the Born effective charge matrix (second order derivatives) via the auto-differentiation with respect to the electric field vector\n",
    "U defines the neural network energy model, and the electric polarization can be computed as\n",
    "\n",
    "$$\n",
    "\\vec{P} = \\frac{\\partial U}{\\partial \\vec{E}}\n",
    "$$\n",
    "and the Born effective charge matrix ($N \\times 3 \\times 3$) as\n",
    "$$\n",
    "Z^* = \\frac{\\partial^2 U}{\\partial \\vec{E} \\partial \\vec{u_i}}\n",
    "$$"
   ]
  },
  {
   "cell_type": "code",
   "execution_count": 8,
   "id": "ad39422b",
   "metadata": {},
   "outputs": [],
   "source": [
    "\n",
    "def predict_polarization(\n",
    "    model, graph: jraph.GraphsTuple\n",
    ") -> Dict[str, jnp.ndarray]:\n",
    "    # here we derive the polarization vector for molecules at Efield = 0\n",
    "\n",
    "    def energy_fn(positions, cell, Efield):\n",
    "        vectors = get_edge_relative_vectors(\n",
    "            positions=positions,\n",
    "            senders=graph.senders,\n",
    "            receivers=graph.receivers,\n",
    "            shifts=graph.edges.shifts,\n",
    "            cell=cell,\n",
    "            n_edge=graph.n_edge,\n",
    "        )\n",
    "        \n",
    "        #node_efield = jnp.repeat(ext_Efield[None,:],repeats=positions.shape[0],axis=0)\n",
    "        \n",
    "        node_energies = model(\n",
    "            vectors, graph.nodes.species, graph.senders, graph.receivers, Efield  #node_efield,\n",
    "        )  # [n_nodes, ]\n",
    "        #print('check shape',node_energies.shape, ' vs. ',len(positions))\n",
    "        assert node_energies.shape == (\n",
    "            len(positions),\n",
    "        ), \"model output needs to be an array of shape (n_nodes, )\"\n",
    "        return jnp.sum(node_energies)   #. , node_energies\n",
    "    \n",
    "    #ext_Efield = jnp.zeros((3))\n",
    "    #ext_Efield = jnp.zeros((9,3))\n",
    "    ext_Efield = jnp.zeros((graph.nodes.positions.shape[0],3))\n",
    "    graph_polarization = jax.grad(energy_fn,argnums=2, has_aux=False,\n",
    "    )(graph.nodes.positions, graph.globals.cell,ext_Efield)\n",
    "    \n",
    "    return {\n",
    "        'polarization': graph_polarization\n",
    "    }\n",
    "\n",
    "pol_predictor = lambda w, g: predict_polarization(lambda *x: model_fn(w, *x), g)\n",
    "\n",
    "\n",
    "\n",
    "def predict_becs(\n",
    "    model, graph: jraph.GraphsTuple\n",
    ") -> Dict[str, jnp.ndarray]:\n",
    "    # here we derive the polarization vector for molecules at Efield = 0\n",
    "    \n",
    "    def energy_fn(positions, cell, Efield):\n",
    "        vectors = get_edge_relative_vectors(\n",
    "            positions=positions,\n",
    "            senders=graph.senders,\n",
    "            receivers=graph.receivers,\n",
    "            shifts=graph.edges.shifts,\n",
    "            cell=cell,\n",
    "            n_edge=graph.n_edge,\n",
    "        )\n",
    "        \n",
    "        node_efield = jnp.repeat(Efield[None,:],repeats=positions.shape[0],axis=0)\n",
    "        \n",
    "        node_energies = model(\n",
    "            vectors, graph.nodes.species, graph.senders, graph.receivers, node_efield  #node_efield,\n",
    "        )  # [n_nodes, ]\n",
    "        #print('check shape',node_energies.shape, ' vs. ',len(positions))\n",
    "        assert node_energies.shape == (\n",
    "            len(positions),\n",
    "        ), \"model output needs to be an array of shape (n_nodes, )\"\n",
    "        return jnp.sum(node_energies)   #. , node_energies\n",
    "    \n",
    "    basis = jnp.eye(3)\n",
    "    \n",
    "    ext_Efield = jnp.zeros((3))\n",
    "    \n",
    "    def graph_force(Efield):\n",
    "        return jax.grad(energy_fn,argnums=0, has_aux=False)(graph.nodes.positions, graph.globals.cell,Efield)\n",
    "    \n",
    "    becs_mat = []\n",
    "    for basis_jvp in basis:\n",
    "        becs_eval = jax.jvp(\n",
    "            graph_force,\n",
    "            (ext_Efield,),\n",
    "            (basis_jvp,),\n",
    "        )[1]\n",
    "        becs_mat.append(becs_eval[:,:,None])\n",
    "    \n",
    "    return {\n",
    "        'becs': jnp.concatenate(becs_mat,axis=-1) \n",
    "    }\n",
    "\n",
    "\n",
    "becs_predictor = lambda w, g: predict_becs(lambda *x: model_fn(w, *x), g)\n",
    "\n"
   ]
  },
  {
   "cell_type": "markdown",
   "id": "223a5db9",
   "metadata": {},
   "source": [
    "Evaluate the electric polarization"
   ]
  },
  {
   "cell_type": "code",
   "execution_count": 9,
   "id": "a75156e7",
   "metadata": {},
   "outputs": [
    {
     "name": "stdout",
     "output_type": "stream",
     "text": [
      "VASP dipole:  [ 0.004 -0.319  0.018]\n",
      "Predicted dipole:  [-0.003 -0.303  0.017]\n",
      "Electric polarization MAE:  0.007493755\n"
     ]
    }
   ],
   "source": [
    "pol_pred = pol_predictor(params,ethanol_graph)\n",
    "\n",
    "vasp_dipole = jnp.array([ 0.004000   ,  -0.318553   ,   0.017774 ])\n",
    "#print(pol_pred['polarization'].sum(axis=0))\n",
    "print('VASP dipole: ',vasp_dipole)\n",
    "\n",
    "#print(-vasp_dipole/pol_pred['polarization'].sum(axis=0))\n",
    "#print(-pol_pred['polarization'].sum(axis=0) - vasp_dipole)\n",
    "pred_dipole = -pol_pred['polarization'].sum(axis=0)\n",
    "print('Predicted dipole: ',pred_dipole)\n",
    "print('Electric polarization MAE: ',jnp.mean(jnp.abs(pred_dipole - vasp_dipole)))\n"
   ]
  },
  {
   "cell_type": "code",
   "execution_count": null,
   "id": "a489f060",
   "metadata": {},
   "outputs": [],
   "source": []
  },
  {
   "cell_type": "markdown",
   "id": "75be9f39",
   "metadata": {},
   "source": [
    "Evaluate the Born effective charge matrix"
   ]
  },
  {
   "cell_type": "code",
   "execution_count": 10,
   "id": "9a61815d",
   "metadata": {},
   "outputs": [
    {
     "name": "stdout",
     "output_type": "stream",
     "text": [
      "Born effective charge matrix MAE:  0.0058555966\n"
     ]
    }
   ],
   "source": [
    "becs_vasp = \"\"\" ion    1\n",
    "    1     0.76779    -0.22702    -0.00503\n",
    "    2    -0.20500     0.41408     0.00527\n",
    "    3    -0.00626     0.00546     0.34978\n",
    " ion    2\n",
    "    1    -0.07405    -0.09377     0.01263\n",
    "    2    -0.03967     0.05148     0.00411\n",
    "    3     0.00892     0.00629     0.07288\n",
    " ion    3\n",
    "    1    -0.83639     0.31798    -0.00369\n",
    "    2     0.27561    -0.41805    -0.01616\n",
    "    3    -0.00095    -0.01758    -0.48789\n",
    " ion    4\n",
    "    1    -0.03316     0.04499    -0.01466\n",
    "    2     0.00274    -0.07274     0.15055\n",
    "    3     0.00513     0.10020    -0.12405\n",
    " ion    5\n",
    "    1    -0.03347     0.03681     0.00317\n",
    "    2    -0.01095    -0.10167    -0.15235\n",
    "    3    -0.01139    -0.10634    -0.09470\n",
    " ion    6\n",
    "    1    -0.07604     0.10381     0.00271\n",
    "    2     0.06480    -0.01239     0.00087\n",
    "    3     0.00416    -0.00072     0.07915\n",
    " ion    7\n",
    "    1     0.05303    -0.05394    -0.01745\n",
    "    2    -0.01201    -0.01803    -0.09756\n",
    "    3     0.01182    -0.07743    -0.04958\n",
    " ion    8\n",
    "    1     0.05303    -0.04470     0.01086\n",
    "    2    -0.00360    -0.00045     0.09273\n",
    "    3    -0.02200     0.07730    -0.06531\n",
    " ion    9\n",
    "    1     0.17927    -0.08415     0.01146\n",
    "    2    -0.07192     0.15777     0.01253\n",
    "    3     0.01057     0.01283     0.31972 \"\"\"\n",
    "\n",
    "becs_vasp = becs_vasp.split('\\n')\n",
    "\n",
    "becs_dft_data = []\n",
    "for ind,becs_dft in enumerate(becs_vasp):\n",
    "    if ind % 4 ==0:\n",
    "        continue\n",
    "    tmp_list = [float(tmpnum) for tmpnum in becs_dft.split()[1:]]\n",
    "    becs_dft_data.append(tmp_list)\n",
    "becs_dft_data = jnp.array(becs_dft_data)\n",
    "becs_dft_data = becs_dft_data.reshape((9,3,3))\n",
    "\n",
    "# perform the prediction via second order derivatives\n",
    "pred_out = becs_predictor(params,ethanol_graph)\n",
    "\n",
    "becs_pred = jnp.transpose(pred_out['becs'], axes=(0,2,1))\n",
    "\n",
    "print('Born effective charge matrix MAE: ',jnp.mean(jnp.abs(becs_pred - becs_dft_data)))\n",
    "\n"
   ]
  },
  {
   "cell_type": "code",
   "execution_count": null,
   "id": "fe63544e",
   "metadata": {},
   "outputs": [],
   "source": [
    "\n",
    "\n"
   ]
  },
  {
   "cell_type": "code",
   "execution_count": null,
   "id": "29b4c037",
   "metadata": {},
   "outputs": [],
   "source": [
    "\n"
   ]
  },
  {
   "cell_type": "code",
   "execution_count": null,
   "id": "c53a6e86",
   "metadata": {},
   "outputs": [],
   "source": []
  },
  {
   "cell_type": "code",
   "execution_count": null,
   "id": "cf386a46",
   "metadata": {},
   "outputs": [],
   "source": []
  },
  {
   "cell_type": "code",
   "execution_count": null,
   "id": "e23d4413",
   "metadata": {},
   "outputs": [],
   "source": []
  }
 ],
 "metadata": {
  "kernelspec": {
   "display_name": "Python 3 (ipykernel)",
   "language": "python",
   "name": "python3"
  },
  "language_info": {
   "codemirror_mode": {
    "name": "ipython",
    "version": 3
   },
   "file_extension": ".py",
   "mimetype": "text/x-python",
   "name": "python",
   "nbconvert_exporter": "python",
   "pygments_lexer": "ipython3",
   "version": "3.11.3"
  }
 },
 "nbformat": 4,
 "nbformat_minor": 5
}
